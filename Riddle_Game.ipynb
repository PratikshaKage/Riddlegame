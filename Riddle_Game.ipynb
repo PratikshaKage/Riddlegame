{
  "nbformat": 4,
  "nbformat_minor": 0,
  "metadata": {
    "colab": {
      "provenance": [],
      "authorship_tag": "ABX9TyNuzfZVZE4TpReLl3leG/6m",
      "include_colab_link": true
    },
    "kernelspec": {
      "name": "python3",
      "display_name": "Python 3"
    },
    "language_info": {
      "name": "python"
    }
  },
  "cells": [
    {
      "cell_type": "markdown",
      "metadata": {
        "id": "view-in-github",
        "colab_type": "text"
      },
      "source": [
        "<a href=\"https://colab.research.google.com/github/PratikshaKage/Riddlegame/blob/main/Riddle_Game.ipynb\" target=\"_parent\"><img src=\"https://colab.research.google.com/assets/colab-badge.svg\" alt=\"Open In Colab\"/></a>"
      ]
    },
    {
      "cell_type": "code",
      "execution_count": 1,
      "metadata": {
        "colab": {
          "base_uri": "https://localhost:8080/"
        },
        "id": "2oW0Y3a001CR",
        "outputId": "3003099b-6ace-4109-d371-708d4b16f796"
      },
      "outputs": [
        {
          "output_type": "stream",
          "name": "stdout",
          "text": [
            "ALL THE BEST..\n",
            "If u multiply this number by any number, the answer will always be the same.What number is this?\n",
            "Enter ur answer here : 0\n",
            "Your answer is correct\n",
            "How many times can you substract the numbr 5 from 25?\n",
            "Enter ur answer here : 1\n",
            "Your answer is correct\n",
            "If there are three apples and u take away two, how many apples do u have?\n",
            "Enter ur answer here : 2\n",
            "Your answer is correct\n",
            "What do mathematics teachers like to eat?\n",
            "Enter ur answer here : 3.14\n",
            "Your answer is correct\n",
            "There are 2 ants in front of 2 other ants, 2 ants behind 2 ants and 2 ants next 2 ants. How many total ants are there?\n",
            "Enter ur answer here : 4\n",
            "Your answer is correct\n",
            "Ram has 5 sons. Each of his sons has a sister. If so how many children does Mr.Ram have?\n",
            "Enter ur answer here : 5\n",
            "Wrong answer..try again\n",
            "Enter ur answer here : 6\n",
            "Your answer is correct\n",
            "I am an odd number. Take away a letter and I become even. What number am I?\n",
            "Enter ur answer here : 7\n",
            "Your answer is correct\n",
            "If two's a company and three's a crowd, what are four and five?\n",
            "Enter ur answer here : 9\n",
            "Your answer is correct\n",
            "Suppose 1+9+8=1, then what can be 2+8+9= ?\n",
            "Enter ur answer here : 10\n",
            "Your answer is correct\n",
            "GOOD JOB..U WON\n"
          ]
        }
      ],
      "source": [
        "i = 0\n",
        "\n",
        "\n",
        "class Node:\n",
        "    def __init__(self, key):\n",
        "        self.left = None\n",
        "        self.right = None\n",
        "        self.val = key\n",
        "\n",
        "\n",
        "lst = [None] * 9\n",
        "\n",
        "lst[0] = \"If u multiply this number by any number, the answer will always be the same.What number is this?\"\n",
        "lst[1] = \"How many times can you substract the numbr 5 from 25?\"\n",
        "lst[2] = \"If there are three apples and u take away two, how many apples do u have?\"\n",
        "lst[3] = \"What do mathematics teachers like to eat?\"\n",
        "lst[\n",
        "    4] = \"There are 2 ants in front of 2 other ants, 2 ants behind 2 ants and 2 ants next 2 ants. How many total ants are there?\"\n",
        "lst[5] = \"Ram has 5 sons. Each of his sons has a sister. If so how many children does Mr.Ram have?\"\n",
        "lst[6] = \"I am an odd number. Take away a letter and I become even. What number am I?\"\n",
        "lst[7] = \"If two's a company and three's a crowd, what are four and five?\"\n",
        "lst[8] = \"Suppose 1+9+8=1, then what can be 2+8+9= ?\"\n",
        "\n",
        "\n",
        "def printPostorder(root):\n",
        "    global i\n",
        "\n",
        "    if root:\n",
        "\n",
        "        printPostorder(root.left)\n",
        "\n",
        "        printPostorder(root.right)\n",
        "\n",
        "        print(lst[i])\n",
        "        i = i + 1\n",
        "        flag = 0\n",
        "        while flag != 3:\n",
        "\n",
        "            ans = float(input(\"Enter ur answer here : \"))\n",
        "\n",
        "            if ans == root.val:\n",
        "\n",
        "                print(\"Your answer is correct\")\n",
        "                if ans == 10:\n",
        "                    print(\"GOOD JOB..U WON\")\n",
        "                    break\n",
        "\n",
        "                break\n",
        "            else:\n",
        "                print(\"Wrong answer..try again\")\n",
        "                flag += 1\n",
        "                if flag == 3:\n",
        "                    print(\"Maximum limit exceeded\")\n",
        "                    exit()\n",
        "\n",
        "\n",
        "root = Node(10)\n",
        "root.left = Node(3.14)\n",
        "root.right = Node(9)\n",
        "root.left.left = Node(1)\n",
        "root.left.right = Node(2)\n",
        "root.right.left = Node(4)\n",
        "root.right.right = Node(7)\n",
        "root.left.left.left = Node(0)\n",
        "root.right.right.right = Node(6)\n",
        "\n",
        "print(\"ALL THE BEST..\")\n",
        "printPostorder(root)\n",
        "\n"
      ]
    }
  ]
}